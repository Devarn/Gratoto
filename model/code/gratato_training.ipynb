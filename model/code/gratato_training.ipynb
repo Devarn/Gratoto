{
 "cells": [
  {
   "cell_type": "code",
   "execution_count": null,
   "id": "fd6d4d0a",
   "metadata": {},
   "outputs": [],
   "source": [
    "#import libraries\n",
    "\n",
    "import tensorflow as tf\n",
    "from tensorflow.keras import models, layers\n",
    "import matplotlib.pyplot as plt\n",
    "from keras.models import Sequential\n",
    "from keras.layers import Dense, Activation"
   ]
  },
  {
   "cell_type": "code",
   "execution_count": null,
   "id": "36129a03",
   "metadata": {},
   "outputs": [],
   "source": [
    "# Setting up batch size\n",
    "b_size = 32\n",
    "\n",
    "# Setting up image size\n",
    "i_size = 256\n",
    "\n",
    "# Setting up channels \n",
    "channels=3\n",
    "\n",
    "# Setting up epochs\n",
    "epochs=50"
   ]
  },
  {
   "cell_type": "code",
   "execution_count": null,
   "id": "be0f5ae6",
   "metadata": {},
   "outputs": [],
   "source": [
    "#loop through sub-categories\n",
    "for directory_path in glob.glob(\"image_dataset\"):\n",
    "    #extract label from sub-directory\n",
    "    label = directory_path.split(\"/\")[-1]\n",
    "    print(label)\n",
    "\n",
    "    #loop through image files\n",
    "    for img_path in glob.glob(os.path.join(directory_path, \"*.jpg\")):\n",
    "      try: \n",
    "            \n",
    "            #read images with openCV\n",
    "            img = cv2.imread(img_path)\n",
    "\n",
    "            #checking image type\n",
    "            tip = imghdr.what(img_path)\n",
    "\n",
    "            #remove the img file if not in list of img extension\n",
    "            if tip not in image_exts: \n",
    "                print('Image not in list {}'.format(img_path))\n",
    "                os.remove(img_path)\n",
    "      except Exception as e: \n",
    "            \n",
    "            #print error msg if img has error\n",
    "            print('Issue with image {}'.format(img_path))\n"
   ]
  },
  {
   "cell_type": "code",
   "execution_count": null,
   "id": "0ae2edac",
   "metadata": {},
   "outputs": [],
   "source": [
    "#loop image cls in data_dir\n",
    "for image_class in os.listdir(data_dir): \n",
    "\n",
    "    #loop img in img_cls_dir\n",
    "    for image in os.listdir(os.path.join(data_dir, image_class)):\n",
    "\n",
    "        #create img path\n",
    "        img_paths = os.path.join(data_dir, image_class, image)\n",
    "        try: \n",
    "\n",
    "            #read images with openCV\n",
    "            img = cv2.imread(img_paths)\n",
    "\n",
    "            #checking image type\n",
    "            tip = imghdr.what(img_paths)\n",
    "\n",
    "            #remove the img file if not in list of img extension\n",
    "            if tip not in image_exts: \n",
    "                print('Image not in list {}'.format(img_paths))\n",
    "                os.remove(img_paths)\n",
    "\n",
    "        #print error msg if img has error\n",
    "        except Exception as e: \n",
    "            print('Issue with image {}'.format(img_paths))\n"
   ]
  },
  {
   "cell_type": "code",
   "execution_count": null,
   "id": "ca213b6b",
   "metadata": {},
   "outputs": [],
   "source": [
    "\n",
    "#preprocessing images in directory\n",
    "dataset = tf.keras.preprocessing.image_dataset_from_directory(\n",
    "    \"image_dataset\",\n",
    "    #shuffling the dataset\n",
    "    shuffle=True,\n",
    "    #resizing image size\n",
    "    image_size=(i_size,i_size),\n",
    "    #setting batch size\n",
    "    batch_size=b_size\n",
    ")"
   ]
  },
  {
   "cell_type": "code",
   "execution_count": null,
   "id": "814c069c",
   "metadata": {},
   "outputs": [],
   "source": [
    "#getting classes names\n",
    "class_names = dataset.class_names\n",
    "class_names"
   ]
  },
  {
   "cell_type": "code",
   "execution_count": null,
   "id": "c0a68c7e",
   "metadata": {},
   "outputs": [],
   "source": [
    "len(dataset)"
   ]
  },
  {
   "cell_type": "code",
   "execution_count": null,
   "id": "ca71200d",
   "metadata": {},
   "outputs": [],
   "source": [
    "#printing img_btch shape and labls\n",
    "for image_batch, labels_batch in dataset.take(1):\n",
    "    print(image_batch.shape)\n",
    "    print(labels_batch.numpy())"
   ]
  },
  {
   "cell_type": "code",
   "execution_count": null,
   "id": "61447cfd",
   "metadata": {},
   "outputs": [],
   "source": [
    "#plotting images from dataset\n",
    "plt.figure(figsize=(12, 12))\n",
    "for image_batch, labels_batch in dataset.take(1):\n",
    "    for i in range(12):\n",
    "        ax = plt.subplot(3, 4, i + 1)\n",
    "        plt.imshow(image_batch[i].numpy().astype(\"uint8\"))\n",
    "        plt.title(class_names[labels_batch[i]])\n",
    "        plt.axis(\"off\")"
   ]
  },
  {
   "cell_type": "code",
   "execution_count": null,
   "id": "c55a3d2b",
   "metadata": {},
   "outputs": [],
   "source": [
    "len(dataset)"
   ]
  },
  {
   "cell_type": "code",
   "execution_count": null,
   "id": "87146eaa",
   "metadata": {},
   "outputs": [],
   "source": [
    "#80% --> train\n",
    "#20% --> 10% validation, 10% test\n",
    "#train_size ==> 0.8\n",
    "batches_c=int(len(dataset)*0.8)\n",
    "\n",
    "#validation_size==>0.1\n",
    "val_c=int(len(dataset)*0.1)\n",
    "\n",
    "#test_size==>0.1\n",
    "test_c=int(len(dataset)*0.1)"
   ]
  },
  {
   "cell_type": "code",
   "execution_count": null,
   "id": "cc8f9545",
   "metadata": {},
   "outputs": [],
   "source": [
    "# Define function split dataset training set, validation set, test set\n",
    "\n",
    "def get_dataset_partitions_tf(dataset_name, train_data_size, val_data_size, test_data_size, shuffle=True, shuffle_size=10000):\n",
    "\n",
    "    # Calculate length of the dataset\n",
    "    dataset_size = len(dataset_name)\n",
    "    #check sum of the dataset is correct\n",
    "    assert (train_data_size+val_data_size+test_data_size) == dataset_size\n",
    "        \n",
    "    #shuffle the dataset to randomize the order of the dataset\n",
    "    if shuffle:\n",
    "        dataset_name = dataset_name.shuffle(shuffle_size, seed=5)\n",
    "    \n",
    "    #split dataset training set, validation set, test set\n",
    "    train_dataset = dataset_name.take(train_data_size)    \n",
    "    validation_dataset = dataset_name.skip(train_data_size).take(val_data_size)\n",
    "    test_dataset = dataset_name.skip(train_data_size).skip(test_data_size)\n",
    "    \n",
    "    return train_dataset, validation_dataset, test_dataset"
   ]
  },
  {
   "cell_type": "code",
   "execution_count": null,
   "id": "2c0541dd",
   "metadata": {},
   "outputs": [],
   "source": [
    "train_dataset, validation_dataset, test_dataset = get_dataset_partitions_tf(dataset,batches_c,val_c,test_c)"
   ]
  },
  {
   "cell_type": "code",
   "execution_count": null,
   "id": "0c9ed1fa",
   "metadata": {},
   "outputs": [],
   "source": [
    "len(train_dataset)"
   ]
  },
  {
   "cell_type": "code",
   "execution_count": null,
   "id": "8f02ceab",
   "metadata": {},
   "outputs": [],
   "source": [
    "len(validation_dataset)"
   ]
  },
  {
   "cell_type": "code",
   "execution_count": null,
   "id": "31266718",
   "metadata": {},
   "outputs": [],
   "source": [
    "len(test_dataset)"
   ]
  },
  {
   "cell_type": "code",
   "execution_count": null,
   "id": "93f95c7c",
   "metadata": {},
   "outputs": [],
   "source": [
    "#optimize training performance\n",
    "train_dataset = train_dataset.cache().shuffle(1000).prefetch(buffer_size=tf.data.AUTOTUNE)\n",
    "validation_dataset = validation_dataset.cache().shuffle(1000).prefetch(buffer_size=tf.data.AUTOTUNE)\n",
    "test_dataset = test_dataset.cache().shuffle(1000).prefetch(buffer_size=tf.data.AUTOTUNE)"
   ]
  },
  {
   "cell_type": "code",
   "execution_count": null,
   "id": "92e6f076",
   "metadata": {},
   "outputs": [],
   "source": [
    "#resize and rescaling images\n",
    "resize_rescale = tf.keras.Sequential([\n",
    "  layers.experimental.preprocessing.Resizing(i_size, i_size),\n",
    "  layers.experimental.preprocessing.Rescaling(1./255),\n",
    "])"
   ]
  },
  {
   "cell_type": "code",
   "execution_count": null,
   "id": "447a63e6",
   "metadata": {},
   "outputs": [],
   "source": [
    "#define data augmentation \n",
    "data_augmentation = tf.keras.Sequential([\n",
    "  layers.experimental.preprocessing.RandomFlip(\"horizontal_and_vertical\"),\n",
    "  layers.experimental.preprocessing.RandomRotation(0.2),\n",
    "])"
   ]
  },
  {
   "cell_type": "code",
   "execution_count": null,
   "id": "9173a163",
   "metadata": {},
   "outputs": [],
   "source": [
    "#applying data augmentation to training dataset and prefetching data\n",
    "train_dataset = train_dataset.map(\n",
    "    lambda x, y: (data_augmentation(x, training=True), y)\n",
    ").prefetch(buffer_size=tf.data.AUTOTUNE)"
   ]
  },
  {
   "cell_type": "code",
   "execution_count": null,
   "id": "9ae92ea0",
   "metadata": {},
   "outputs": [],
   "source": [
    "# defining the shape, classes count, and create model\n",
    "\n",
    "input_shape = (b_size, i_size, i_size, channels)\n",
    "n_classes = 3\n",
    "\n",
    "model = models.Sequential([\n",
    "    resize_rescale,\n",
    "    layers.Conv2D(32, kernel_size = (3,3), activation='relu', input_shape=input_shape),\n",
    "    layers.MaxPooling2D((2, 2)),\n",
    "    layers.Conv2D(64,  kernel_size = (3,3), activation='relu'),\n",
    "    layers.MaxPooling2D((2, 2)),\n",
    "    layers.Conv2D(64,  kernel_size = (3,3), activation='relu'),\n",
    "    layers.MaxPooling2D((2, 2)),\n",
    "    layers.Conv2D(64, (3, 3), activation='relu'),\n",
    "    layers.MaxPooling2D((2, 2)),\n",
    "    layers.Conv2D(64, (3, 3), activation='relu'),\n",
    "    layers.MaxPooling2D((2, 2)),\n",
    "    layers.Conv2D(64, (3, 3), activation='relu'),\n",
    "    layers.MaxPooling2D((2, 2)),\n",
    "    layers.Flatten(),\n",
    "    layers.Dense(64, activation='relu'),\n",
    "    layers.Dense(n_classes, activation='softmax'),\n",
    "])\n",
    "\n",
    "# Build model with the specified input shape\n",
    "model.build(input_shape=input_shape)"
   ]
  },
  {
   "cell_type": "code",
   "execution_count": null,
   "id": "00fb64c9",
   "metadata": {},
   "outputs": [],
   "source": [
    "model.summary()"
   ]
  },
  {
   "cell_type": "code",
   "execution_count": null,
   "id": "27eb65f8",
   "metadata": {},
   "outputs": [],
   "source": [
    "model.compile(\n",
    "    optimizer='adam',\n",
    "    loss=tf.keras.losses.SparseCategoricalCrossentropy(from_logits=False),\n",
    "    metrics=['accuracy']\n",
    ")"
   ]
  },
  {
   "cell_type": "code",
   "execution_count": null,
   "id": "4b5527c3",
   "metadata": {},
   "outputs": [],
   "source": [
    "history = model.fit(\n",
    "    train_dataset,\n",
    "    batch_size=b_size,\n",
    "    validation_data=validation_dataset,\n",
    "    verbose=1,\n",
    "    epochs=50,\n",
    ")"
   ]
  },
  {
   "cell_type": "code",
   "execution_count": null,
   "id": "2a4a95e4",
   "metadata": {},
   "outputs": [],
   "source": [
    "scores = model.evaluate(test_dataset)"
   ]
  },
  {
   "cell_type": "code",
   "execution_count": null,
   "id": "0e54bfb5",
   "metadata": {},
   "outputs": [],
   "source": [
    "scores"
   ]
  },
  {
   "cell_type": "code",
   "execution_count": null,
   "id": "3cde3843",
   "metadata": {},
   "outputs": [],
   "source": [
    "history"
   ]
  },
  {
   "cell_type": "code",
   "execution_count": null,
   "id": "891a619c",
   "metadata": {},
   "outputs": [],
   "source": [
    "history.params"
   ]
  },
  {
   "cell_type": "code",
   "execution_count": null,
   "id": "4337fe2f",
   "metadata": {},
   "outputs": [],
   "source": [
    "history.history.keys()"
   ]
  },
  {
   "cell_type": "code",
   "execution_count": null,
   "id": "76013637",
   "metadata": {},
   "outputs": [],
   "source": [
    "type(history.history['loss'])"
   ]
  },
  {
   "cell_type": "code",
   "execution_count": null,
   "id": "3962837b",
   "metadata": {},
   "outputs": [],
   "source": [
    "len(history.history['loss'])"
   ]
  },
  {
   "cell_type": "code",
   "execution_count": null,
   "id": "b7820838",
   "metadata": {},
   "outputs": [],
   "source": [
    "history.history['loss'][:10]"
   ]
  },
  {
   "cell_type": "code",
   "execution_count": null,
   "id": "25a4f67e",
   "metadata": {},
   "outputs": [],
   "source": [
    "acc = history.history['accuracy']\n",
    "val_acc = history.history['val_accuracy']\n",
    "\n",
    "loss = history.history['loss']\n",
    "val_loss = history.history['val_loss']"
   ]
  },
  {
   "cell_type": "code",
   "execution_count": null,
   "id": "f4eb32fe",
   "metadata": {},
   "outputs": [],
   "source": [
    "plt.figure(figsize=(8, 8))\n",
    "plt.subplot(1, 2, 1)\n",
    "plt.plot(range(epochs), acc, label='Training Accuracy')\n",
    "plt.plot(range(epochs), val_acc, label='Validation Accuracy')\n",
    "plt.legend(loc='lower right')\n",
    "plt.title('Training and Validation Accuracy')\n",
    "\n",
    "plt.subplot(1, 2, 2)\n",
    "plt.plot(range(EPOCHS), loss, label='Training Loss')\n",
    "plt.plot(range(EPOCHS), val_loss, label='Validation Loss')\n",
    "plt.legend(loc='upper right')\n",
    "plt.title('Training and Validation Loss')\n",
    "plt.show()"
   ]
  },
  {
   "cell_type": "code",
   "execution_count": null,
   "id": "86021e19",
   "metadata": {},
   "outputs": [],
   "source": [
    "import numpy as np\n",
    "for images_batch, labels_batch in test_ds.take(1):\n",
    "    \n",
    "    first_image = images_batch[0].numpy().astype('uint8')\n",
    "    first_label = labels_batch[0].numpy()\n",
    "    \n",
    "    print(\"first img predict\")\n",
    "    plt.imshow(first_image)\n",
    "    print(\"actual :\",class_names[first_label])\n",
    "    \n",
    "    batch_prediction = model.predict(images_batch)\n",
    "    print(\"predicted :\",class_names[np.argmax(batch_prediction[0])])"
   ]
  },
  {
   "cell_type": "code",
   "execution_count": null,
   "id": "8f4fc26f",
   "metadata": {},
   "outputs": [],
   "source": [
    "def predict(model, img):\n",
    "    img_array = tf.keras.preprocessing.image.img_to_array(images[i].numpy())\n",
    "    img_array = tf.expand_dims(img_array, 0)\n",
    "\n",
    "    predictions = model.predict(img_array)\n",
    "\n",
    "    predicted_class = class_names[np.argmax(predictions[0])]\n",
    "    confidence = round(100 * (np.max(predictions[0])), 2)\n",
    "    return predicted_class, confidence"
   ]
  },
  {
   "cell_type": "code",
   "execution_count": null,
   "id": "9350dc00",
   "metadata": {},
   "outputs": [],
   "source": [
    "plt.figure(figsize=(15, 15))\n",
    "for images, labels in test_ds.take(1):\n",
    "    for i in range(9):\n",
    "        ax = plt.subplot(3, 3, i + 1)\n",
    "        plt.imshow(images[i].numpy().astype(\"uint8\"))\n",
    "        \n",
    "        predicted_class, confidence = predict(model, images[i].numpy())\n",
    "        actual_class = class_names[labels[i]] \n",
    "        \n",
    "        plt.title(f\"Actual: {actual_class},\\n Predicted: {predicted_class}.\\n Confidence: {confidence}%\")\n",
    "        \n",
    "        plt.axis(\"off\")"
   ]
  },
  {
   "cell_type": "code",
   "execution_count": null,
   "id": "4b1b814a",
   "metadata": {},
   "outputs": [],
   "source": [
    "import os\n",
    "model_version=max([int(i) for i in os.listdir(\"../models\") + [0]])+1\n",
    "model.save(f\"../models/{model_version}\")"
   ]
  },
  {
   "cell_type": "code",
   "execution_count": null,
   "id": "211cd6e9",
   "metadata": {},
   "outputs": [],
   "source": [
    "model.save(\"../gratato_model.h5\")"
   ]
  }
 ],
 "metadata": {
  "kernelspec": {
   "display_name": "Python 3 (ipykernel)",
   "language": "python",
   "name": "python3"
  },
  "language_info": {
   "codemirror_mode": {
    "name": "ipython",
    "version": 3
   },
   "file_extension": ".py",
   "mimetype": "text/x-python",
   "name": "python",
   "nbconvert_exporter": "python",
   "pygments_lexer": "ipython3",
   "version": "3.10.0"
  }
 },
 "nbformat": 4,
 "nbformat_minor": 5
}
